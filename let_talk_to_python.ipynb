{
 "cells": [
  {
   "cell_type": "markdown",
   "id": "e0e38fd7",
   "metadata": {},
   "source": [
    "  \n",
    " # let_talk_to_python"
   ]
  },
  {
   "cell_type": "markdown",
   "id": "37e08b97",
   "metadata": {},
   "source": [
    " "
   ]
  },
  {
   "cell_type": "markdown",
   "id": "b6b24c2a",
   "metadata": {},
   "source": [
    "## Math"
   ]
  },
  {
   "cell_type": "markdown",
   "id": "57711901",
   "metadata": {},
   "source": [
    "3+4\n"
   ]
  },
  {
   "cell_type": "code",
   "execution_count": 3,
   "id": "1bbec7b1",
   "metadata": {},
   "outputs": [
    {
     "data": {
      "text/plain": [
       "9"
      ]
     },
     "execution_count": 3,
     "metadata": {},
     "output_type": "execute_result"
    }
   ],
   "source": [
    "12-3"
   ]
  },
  {
   "cell_type": "code",
   "execution_count": 4,
   "id": "e811fade",
   "metadata": {},
   "outputs": [
    {
     "data": {
      "text/plain": [
       "12"
      ]
     },
     "execution_count": 4,
     "metadata": {},
     "output_type": "execute_result"
    }
   ],
   "source": [
    "3*4"
   ]
  },
  {
   "cell_type": "code",
   "execution_count": 48,
   "id": "86ea3122",
   "metadata": {},
   "outputs": [
    {
     "data": {
      "text/plain": [
       "15"
      ]
     },
     "execution_count": 48,
     "metadata": {},
     "output_type": "execute_result"
    }
   ],
   "source": [
    "# Phép cộng\n",
    "1+2+3+4+5"
   ]
  },
  {
   "cell_type": "code",
   "execution_count": 7,
   "id": "e203a668",
   "metadata": {},
   "outputs": [
    {
     "data": {
      "text/plain": [
       "10"
      ]
     },
     "execution_count": 7,
     "metadata": {},
     "output_type": "execute_result"
    }
   ],
   "source": [
    "# Phép trừ\n",
    "120-20-90"
   ]
  },
  {
   "cell_type": "code",
   "execution_count": 8,
   "id": "6e4c5c02",
   "metadata": {},
   "outputs": [
    {
     "data": {
      "text/plain": [
       "960"
      ]
     },
     "execution_count": 8,
     "metadata": {},
     "output_type": "execute_result"
    }
   ],
   "source": [
    "# Phép nhân\n",
    "120*8"
   ]
  },
  {
   "cell_type": "code",
   "execution_count": 9,
   "id": "376ea233",
   "metadata": {},
   "outputs": [
    {
     "data": {
      "text/plain": [
       "66.33333333333333"
      ]
     },
     "execution_count": 9,
     "metadata": {},
     "output_type": "execute_result"
    }
   ],
   "source": [
    "# Phép chia\n",
    "199/3"
   ]
  },
  {
   "cell_type": "code",
   "execution_count": 11,
   "id": "f556abac",
   "metadata": {},
   "outputs": [
    {
     "data": {
      "text/plain": [
       "66"
      ]
     },
     "execution_count": 11,
     "metadata": {},
     "output_type": "execute_result"
    }
   ],
   "source": [
    "# Làm tròn\n",
    "round(199/3)"
   ]
  },
  {
   "cell_type": "code",
   "execution_count": 12,
   "id": "b0c243e0",
   "metadata": {},
   "outputs": [
    {
     "data": {
      "text/plain": [
       "66.33333"
      ]
     },
     "execution_count": 12,
     "metadata": {},
     "output_type": "execute_result"
    }
   ],
   "source": [
    "# Làm tròn n số\n",
    "round(199/3, 5)"
   ]
  },
  {
   "cell_type": "code",
   "execution_count": 15,
   "id": "14e86ad0",
   "metadata": {},
   "outputs": [
    {
     "data": {
      "text/plain": [
       "True"
      ]
     },
     "execution_count": 15,
     "metadata": {},
     "output_type": "execute_result"
    }
   ],
   "source": [
    "# So sánh =\n",
    "100==100"
   ]
  },
  {
   "cell_type": "code",
   "execution_count": 16,
   "id": "746a1822",
   "metadata": {},
   "outputs": [
    {
     "data": {
      "text/plain": [
       "False"
      ]
     },
     "execution_count": 16,
     "metadata": {},
     "output_type": "execute_result"
    }
   ],
   "source": [
    "90==100"
   ]
  },
  {
   "cell_type": "code",
   "execution_count": 17,
   "id": "b0d6f525",
   "metadata": {},
   "outputs": [
    {
     "data": {
      "text/plain": [
       "False"
      ]
     },
     "execution_count": 17,
     "metadata": {},
     "output_type": "execute_result"
    }
   ],
   "source": [
    "6>7"
   ]
  },
  {
   "cell_type": "code",
   "execution_count": 18,
   "id": "584c36f5",
   "metadata": {},
   "outputs": [
    {
     "data": {
      "text/plain": [
       "True"
      ]
     },
     "execution_count": 18,
     "metadata": {},
     "output_type": "execute_result"
    }
   ],
   "source": [
    "7<8"
   ]
  },
  {
   "cell_type": "code",
   "execution_count": 19,
   "id": "47107ed2",
   "metadata": {},
   "outputs": [
    {
     "data": {
      "text/plain": [
       "False"
      ]
     },
     "execution_count": 19,
     "metadata": {},
     "output_type": "execute_result"
    }
   ],
   "source": [
    "6>=9"
   ]
  },
  {
   "cell_type": "code",
   "execution_count": 20,
   "id": "87416ab2",
   "metadata": {},
   "outputs": [
    {
     "data": {
      "text/plain": [
       "False"
      ]
     },
     "execution_count": 20,
     "metadata": {},
     "output_type": "execute_result"
    }
   ],
   "source": [
    "2<=1"
   ]
  },
  {
   "cell_type": "code",
   "execution_count": 21,
   "id": "9f7ffe64",
   "metadata": {},
   "outputs": [
    {
     "data": {
      "text/plain": [
       "True"
      ]
     },
     "execution_count": 21,
     "metadata": {},
     "output_type": "execute_result"
    }
   ],
   "source": [
    "5 < 4+3"
   ]
  },
  {
   "cell_type": "code",
   "execution_count": 22,
   "id": "2e2d37c4",
   "metadata": {},
   "outputs": [
    {
     "data": {
      "text/plain": [
       "True"
      ]
     },
     "execution_count": 22,
     "metadata": {},
     "output_type": "execute_result"
    }
   ],
   "source": [
    "12+1 >= 12"
   ]
  },
  {
   "cell_type": "code",
   "execution_count": 23,
   "id": "a3064886",
   "metadata": {},
   "outputs": [
    {
     "data": {
      "text/plain": [
       "True"
      ]
     },
     "execution_count": 23,
     "metadata": {},
     "output_type": "execute_result"
    }
   ],
   "source": [
    "16*2 == 32"
   ]
  },
  {
   "cell_type": "code",
   "execution_count": 24,
   "id": "b2d8cc76",
   "metadata": {},
   "outputs": [
    {
     "data": {
      "text/plain": [
       "False"
      ]
     },
     "execution_count": 24,
     "metadata": {},
     "output_type": "execute_result"
    }
   ],
   "source": [
    "16 != 16"
   ]
  },
  {
   "cell_type": "code",
   "execution_count": 25,
   "id": "e59bc58d",
   "metadata": {},
   "outputs": [
    {
     "data": {
      "text/plain": [
       "False"
      ]
     },
     "execution_count": 25,
     "metadata": {},
     "output_type": "execute_result"
    }
   ],
   "source": [
    "5 >= 6"
   ]
  },
  {
   "cell_type": "code",
   "execution_count": 26,
   "id": "943efb2e",
   "metadata": {},
   "outputs": [
    {
     "data": {
      "text/plain": [
       "4"
      ]
     },
     "execution_count": 26,
     "metadata": {},
     "output_type": "execute_result"
    }
   ],
   "source": [
    "# Phép chia lấy phần nguyên\n",
    "9//2"
   ]
  },
  {
   "cell_type": "code",
   "execution_count": 28,
   "id": "1a36b7c0",
   "metadata": {},
   "outputs": [
    {
     "data": {
      "text/plain": [
       "1"
      ]
     },
     "execution_count": 28,
     "metadata": {},
     "output_type": "execute_result"
    }
   ],
   "source": [
    "# Phép chia lấy phần dư\n",
    "13%2"
   ]
  },
  {
   "cell_type": "code",
   "execution_count": 29,
   "id": "5e98d5c9",
   "metadata": {},
   "outputs": [
    {
     "data": {
      "text/plain": [
       "1024"
      ]
     },
     "execution_count": 29,
     "metadata": {},
     "output_type": "execute_result"
    }
   ],
   "source": [
    "# Lũy thừa\n",
    "4**5"
   ]
  },
  {
   "cell_type": "code",
   "execution_count": 31,
   "id": "a5f4f391",
   "metadata": {},
   "outputs": [
    {
     "data": {
      "text/plain": [
       "-24"
      ]
     },
     "execution_count": 31,
     "metadata": {},
     "output_type": "execute_result"
    }
   ],
   "source": [
    "1 - 2 * 3 * 5 + 6 - (2-1)"
   ]
  },
  {
   "cell_type": "markdown",
   "id": "d20bd0d2",
   "metadata": {},
   "source": [
    "## Strings \"\"  ,''"
   ]
  },
  {
   "cell_type": "code",
   "execution_count": 32,
   "id": "b58f2228",
   "metadata": {},
   "outputs": [
    {
     "data": {
      "text/plain": [
       "'Hello!'"
      ]
     },
     "execution_count": 32,
     "metadata": {},
     "output_type": "execute_result"
    }
   ],
   "source": [
    "# là chuỗi các kĩ tự\n",
    "\"Hello!\""
   ]
  },
  {
   "cell_type": "code",
   "execution_count": 33,
   "id": "30e3879d",
   "metadata": {},
   "outputs": [
    {
     "data": {
      "text/plain": [
       "'Hi fr!'"
      ]
     },
     "execution_count": 33,
     "metadata": {},
     "output_type": "execute_result"
    }
   ],
   "source": [
    "'Hi fr!'"
   ]
  },
  {
   "cell_type": "code",
   "execution_count": 34,
   "id": "961eb15e",
   "metadata": {},
   "outputs": [
    {
     "data": {
      "text/plain": [
       "'3-5'"
      ]
     },
     "execution_count": 34,
     "metadata": {},
     "output_type": "execute_result"
    }
   ],
   "source": [
    "\"3-5\""
   ]
  },
  {
   "cell_type": "markdown",
   "id": "ca4d1a9b",
   "metadata": {},
   "source": [
    "### Strings operators\n",
    "- Concatenation: + ( cộng các strings)\n",
    "- multiplication: * ( nhân số lần strings)"
   ]
  },
  {
   "cell_type": "code",
   "execution_count": 35,
   "id": "3ab3e627",
   "metadata": {},
   "outputs": [
    {
     "data": {
      "text/plain": [
       "'Hifr'"
      ]
     },
     "execution_count": 35,
     "metadata": {},
     "output_type": "execute_result"
    }
   ],
   "source": [
    "\"Hi\" + \"fr\""
   ]
  },
  {
   "cell_type": "code",
   "execution_count": 36,
   "id": "fe526f12",
   "metadata": {},
   "outputs": [
    {
     "data": {
      "text/plain": [
       "'HiHi'"
      ]
     },
     "execution_count": 36,
     "metadata": {},
     "output_type": "execute_result"
    }
   ],
   "source": [
    "\"Hi\" *2"
   ]
  },
  {
   "cell_type": "markdown",
   "id": "585fd381",
   "metadata": {},
   "source": [
    "### Strings Index [0,1 ,2 ,3 ]"
   ]
  },
  {
   "cell_type": "code",
   "execution_count": 37,
   "id": "68239fe6",
   "metadata": {},
   "outputs": [
    {
     "data": {
      "text/plain": [
       "'Hello'"
      ]
     },
     "execution_count": 37,
     "metadata": {},
     "output_type": "execute_result"
    }
   ],
   "source": [
    "'H'+'e'+'l'+'l'+'o'"
   ]
  },
  {
   "cell_type": "code",
   "execution_count": 51,
   "id": "c850469b",
   "metadata": {},
   "outputs": [
    {
     "data": {
      "text/plain": [
       "'o'"
      ]
     },
     "execution_count": 51,
     "metadata": {},
     "output_type": "execute_result"
    }
   ],
   "source": [
    "'Hello' []"
   ]
  },
  {
   "cell_type": "markdown",
   "id": "767a471a",
   "metadata": {},
   "source": [
    "### Strings functions"
   ]
  },
  {
   "cell_type": "code",
   "execution_count": 39,
   "id": "eee43507",
   "metadata": {},
   "outputs": [
    {
     "data": {
      "text/plain": [
       "'HÀ MẠNH LONG'"
      ]
     },
     "execution_count": 39,
     "metadata": {},
     "output_type": "execute_result"
    }
   ],
   "source": [
    "# Viết hoa hết\n",
    "'hà mạnh long' .upper()"
   ]
  },
  {
   "cell_type": "code",
   "execution_count": 40,
   "id": "4e542b9a",
   "metadata": {},
   "outputs": [
    {
     "data": {
      "text/plain": [
       "'hà mạnh long'"
      ]
     },
     "execution_count": 40,
     "metadata": {},
     "output_type": "execute_result"
    }
   ],
   "source": [
    "# Viết thường hết\n",
    "'HÀ MẠNH LONG' .lower()"
   ]
  },
  {
   "cell_type": "code",
   "execution_count": 41,
   "id": "3f4766cb",
   "metadata": {},
   "outputs": [
    {
     "data": {
      "text/plain": [
       "29"
      ]
     },
     "execution_count": 41,
     "metadata": {},
     "output_type": "execute_result"
    }
   ],
   "source": [
    "# Chiều dài của chuỗi\n",
    "len('Hello everyone I from VietNam')"
   ]
  },
  {
   "cell_type": "code",
   "execution_count": 42,
   "id": "7e07b2d2",
   "metadata": {},
   "outputs": [
    {
     "data": {
      "text/plain": [
       "'Hà Mạnh Long'"
      ]
     },
     "execution_count": 42,
     "metadata": {},
     "output_type": "execute_result"
    }
   ],
   "source": [
    "# Bỏ dáu cách\n",
    "'      Hà Mạnh Long     ' .strip()"
   ]
  },
  {
   "cell_type": "code",
   "execution_count": 46,
   "id": "5f699994",
   "metadata": {},
   "outputs": [
    {
     "data": {
      "text/plain": [
       "True"
      ]
     },
     "execution_count": 46,
     "metadata": {},
     "output_type": "execute_result"
    }
   ],
   "source": [
    "# Xem có bát đầu bằng kí tự nào đó\n",
    "'#Hà Mạnh Long' . startswith('#')"
   ]
  },
  {
   "cell_type": "code",
   "execution_count": 47,
   "id": "1e33dac9",
   "metadata": {},
   "outputs": [
    {
     "data": {
      "text/plain": [
       "False"
      ]
     },
     "execution_count": 47,
     "metadata": {},
     "output_type": "execute_result"
    }
   ],
   "source": [
    "# Xem có kết thúc bằng ký nào đó\n",
    "'!Hà Mạnh Long' .endswith('#')"
   ]
  },
  {
   "cell_type": "code",
   "execution_count": 50,
   "id": "697bd30a",
   "metadata": {},
   "outputs": [
    {
     "data": {
      "text/plain": [
       "'llo world'"
      ]
     },
     "execution_count": 50,
     "metadata": {},
     "output_type": "execute_result"
    }
   ],
   "source": [
    "# Substring\n",
    "\"Hello world\"[2:]"
   ]
  },
  {
   "cell_type": "code",
   "execution_count": 52,
   "id": "df2de0e3",
   "metadata": {},
   "outputs": [
    {
     "data": {
      "text/plain": [
       "'ii'"
      ]
     },
     "execution_count": 52,
     "metadata": {},
     "output_type": "execute_result"
    }
   ],
   "source": [
    "\"Hiiiiiii\"[1:3]"
   ]
  },
  {
   "cell_type": "code",
   "execution_count": 53,
   "id": "994b1794",
   "metadata": {},
   "outputs": [
    {
     "data": {
      "text/plain": [
       "'huu'"
      ]
     },
     "execution_count": 53,
     "metadata": {},
     "output_type": "execute_result"
    }
   ],
   "source": [
    "\"huuuuu\"[:3]"
   ]
  },
  {
   "cell_type": "code",
   "execution_count": 54,
   "id": "ba863cc4",
   "metadata": {},
   "outputs": [
    {
     "data": {
      "text/plain": [
       "'l'"
      ]
     },
     "execution_count": 54,
     "metadata": {},
     "output_type": "execute_result"
    }
   ],
   "source": [
    "\"Hello\"[-3]"
   ]
  },
  {
   "cell_type": "code",
   "execution_count": 55,
   "id": "9fa06d4e",
   "metadata": {},
   "outputs": [
    {
     "data": {
      "text/plain": [
       "'llo'"
      ]
     },
     "execution_count": 55,
     "metadata": {},
     "output_type": "execute_result"
    }
   ],
   "source": [
    "\"Hello\"[2:6]"
   ]
  },
  {
   "cell_type": "markdown",
   "id": "82874022",
   "metadata": {},
   "source": [
    "## Data types"
   ]
  },
  {
   "cell_type": "code",
   "execution_count": 2,
   "id": "3013ec9b",
   "metadata": {},
   "outputs": [
    {
     "data": {
      "text/plain": [
       "int"
      ]
     },
     "execution_count": 2,
     "metadata": {},
     "output_type": "execute_result"
    }
   ],
   "source": [
    "s=5\n",
    "type(s)"
   ]
  },
  {
   "cell_type": "code",
   "execution_count": 3,
   "id": "14b34cbb",
   "metadata": {},
   "outputs": [
    {
     "data": {
      "text/plain": [
       "float"
      ]
     },
     "execution_count": 3,
     "metadata": {},
     "output_type": "execute_result"
    }
   ],
   "source": [
    "s=14.6\n",
    "type(s)"
   ]
  },
  {
   "cell_type": "markdown",
   "id": "c5a3bb6d",
   "metadata": {},
   "source": [
    "## Booleans"
   ]
  },
  {
   "cell_type": "code",
   "execution_count": 4,
   "id": "5e8dcb26",
   "metadata": {},
   "outputs": [
    {
     "data": {
      "text/plain": [
       "True"
      ]
     },
     "execution_count": 4,
     "metadata": {},
     "output_type": "execute_result"
    }
   ],
   "source": [
    "True"
   ]
  },
  {
   "cell_type": "code",
   "execution_count": 5,
   "id": "98f06dff",
   "metadata": {},
   "outputs": [
    {
     "data": {
      "text/plain": [
       "False"
      ]
     },
     "execution_count": 5,
     "metadata": {},
     "output_type": "execute_result"
    }
   ],
   "source": [
    "False"
   ]
  },
  {
   "cell_type": "code",
   "execution_count": 6,
   "id": "e87cda0d",
   "metadata": {},
   "outputs": [
    {
     "data": {
      "text/plain": [
       "True"
      ]
     },
     "execution_count": 6,
     "metadata": {},
     "output_type": "execute_result"
    }
   ],
   "source": [
    "1 == 1"
   ]
  },
  {
   "cell_type": "code",
   "execution_count": 7,
   "id": "d79d092c",
   "metadata": {},
   "outputs": [
    {
     "ename": "SyntaxError",
     "evalue": "invalid syntax (1510471170.py, line 2)",
     "output_type": "error",
     "traceback": [
      "\u001b[0;36m  Cell \u001b[0;32mIn [7], line 2\u001b[0;36m\u001b[0m\n\u001b[0;31m    1==1 amd 2 !=4\u001b[0m\n\u001b[0m         ^\u001b[0m\n\u001b[0;31mSyntaxError\u001b[0m\u001b[0;31m:\u001b[0m invalid syntax\n"
     ]
    }
   ],
   "source": [
    "# and\n",
    "1==1 amd 2 !=4"
   ]
  },
  {
   "cell_type": "code",
   "execution_count": 8,
   "id": "7f812fcf",
   "metadata": {},
   "outputs": [
    {
     "data": {
      "text/plain": [
       "True"
      ]
     },
     "execution_count": 8,
     "metadata": {},
     "output_type": "execute_result"
    }
   ],
   "source": [
    "# and\n",
    "1==1 and 2 !=4"
   ]
  },
  {
   "cell_type": "code",
   "execution_count": 9,
   "id": "e9940143",
   "metadata": {},
   "outputs": [
    {
     "data": {
      "text/plain": [
       "True"
      ]
     },
     "execution_count": 9,
     "metadata": {},
     "output_type": "execute_result"
    }
   ],
   "source": [
    "# or\n",
    "1==1 or 2==3"
   ]
  },
  {
   "cell_type": "code",
   "execution_count": 10,
   "id": "88448e65",
   "metadata": {},
   "outputs": [
    {
     "data": {
      "text/plain": [
       "False"
      ]
     },
     "execution_count": 10,
     "metadata": {},
     "output_type": "execute_result"
    }
   ],
   "source": [
    "False and True"
   ]
  },
  {
   "cell_type": "code",
   "execution_count": 11,
   "id": "f9436877",
   "metadata": {},
   "outputs": [
    {
     "ename": "NameError",
     "evalue": "name 'true' is not defined",
     "output_type": "error",
     "traceback": [
      "\u001b[0;31m---------------------------------------------------------------------------\u001b[0m",
      "\u001b[0;31mNameError\u001b[0m                                 Traceback (most recent call last)",
      "Cell \u001b[0;32mIn [11], line 1\u001b[0m\n\u001b[0;32m----> 1\u001b[0m \u001b[43mtrue\u001b[49m \u001b[38;5;129;01mand\u001b[39;00m true \n",
      "\u001b[0;31mNameError\u001b[0m: name 'true' is not defined"
     ]
    }
   ],
   "source": [
    "true and true "
   ]
  },
  {
   "cell_type": "code",
   "execution_count": 12,
   "id": "25e0a227",
   "metadata": {},
   "outputs": [
    {
     "data": {
      "text/plain": [
       "True"
      ]
     },
     "execution_count": 12,
     "metadata": {},
     "output_type": "execute_result"
    }
   ],
   "source": [
    "True and True"
   ]
  },
  {
   "cell_type": "code",
   "execution_count": 13,
   "id": "a11a0574",
   "metadata": {},
   "outputs": [
    {
     "data": {
      "text/plain": [
       "False"
      ]
     },
     "execution_count": 13,
     "metadata": {},
     "output_type": "execute_result"
    }
   ],
   "source": [
    "1==1 and 2==1"
   ]
  },
  {
   "cell_type": "code",
   "execution_count": 14,
   "id": "20c41075",
   "metadata": {},
   "outputs": [
    {
     "data": {
      "text/plain": [
       "True"
      ]
     },
     "execution_count": 14,
     "metadata": {},
     "output_type": "execute_result"
    }
   ],
   "source": [
    "'test' == 'test'"
   ]
  },
  {
   "cell_type": "code",
   "execution_count": 15,
   "id": "451dedf2",
   "metadata": {},
   "outputs": [
    {
     "data": {
      "text/plain": [
       "True"
      ]
     },
     "execution_count": 15,
     "metadata": {},
     "output_type": "execute_result"
    }
   ],
   "source": [
    "1==1 or 2 != 1 "
   ]
  },
  {
   "cell_type": "code",
   "execution_count": 16,
   "id": "a1d004ad",
   "metadata": {},
   "outputs": [
    {
     "data": {
      "text/plain": [
       "True"
      ]
     },
     "execution_count": 16,
     "metadata": {},
     "output_type": "execute_result"
    }
   ],
   "source": [
    "True and 1==1"
   ]
  },
  {
   "cell_type": "code",
   "execution_count": 17,
   "id": "acea2122",
   "metadata": {},
   "outputs": [
    {
     "data": {
      "text/plain": [
       "False"
      ]
     },
     "execution_count": 17,
     "metadata": {},
     "output_type": "execute_result"
    }
   ],
   "source": [
    "False and 0 != 0"
   ]
  },
  {
   "cell_type": "code",
   "execution_count": 18,
   "id": "128daab0",
   "metadata": {},
   "outputs": [
    {
     "data": {
      "text/plain": [
       "False"
      ]
     },
     "execution_count": 18,
     "metadata": {},
     "output_type": "execute_result"
    }
   ],
   "source": [
    "\"test\" == \"tests\" "
   ]
  },
  {
   "cell_type": "code",
   "execution_count": 19,
   "id": "3883f247",
   "metadata": {},
   "outputs": [
    {
     "data": {
      "text/plain": [
       "False"
      ]
     },
     "execution_count": 19,
     "metadata": {},
     "output_type": "execute_result"
    }
   ],
   "source": [
    "1 != 0 and 2 == 1"
   ]
  },
  {
   "cell_type": "markdown",
   "id": "196afe72",
   "metadata": {},
   "source": [
    "## Lists (danh sách)\n",
    "Là môt chuỗi của các dối tượng(objects)."
   ]
  },
  {
   "cell_type": "code",
   "execution_count": 29,
   "id": "0a6b49ec",
   "metadata": {},
   "outputs": [],
   "source": [
    "fruit = [\"apple\", \"banana\", \"grape\"]"
   ]
  },
  {
   "cell_type": "code",
   "execution_count": 21,
   "id": "5abef92e",
   "metadata": {},
   "outputs": [
    {
     "data": {
      "text/plain": [
       "list"
      ]
     },
     "execution_count": 21,
     "metadata": {},
     "output_type": "execute_result"
    }
   ],
   "source": [
    "type(fruit)"
   ]
  },
  {
   "cell_type": "code",
   "execution_count": 22,
   "id": "94e28866",
   "metadata": {},
   "outputs": [],
   "source": [
    "Number = [0,1,2,3,4,5]"
   ]
  },
  {
   "cell_type": "code",
   "execution_count": 23,
   "id": "ba4c507b",
   "metadata": {},
   "outputs": [
    {
     "data": {
      "text/plain": [
       "list"
      ]
     },
     "execution_count": 23,
     "metadata": {},
     "output_type": "execute_result"
    }
   ],
   "source": [
    "type(Number)"
   ]
  },
  {
   "cell_type": "markdown",
   "id": "771d0cb7",
   "metadata": {},
   "source": [
    "#### index"
   ]
  },
  {
   "cell_type": "code",
   "execution_count": 31,
   "id": "03d2fc50",
   "metadata": {},
   "outputs": [
    {
     "data": {
      "text/plain": [
       "'apple'"
      ]
     },
     "execution_count": 31,
     "metadata": {},
     "output_type": "execute_result"
    }
   ],
   "source": [
    "fruit[0]"
   ]
  },
  {
   "cell_type": "code",
   "execution_count": 30,
   "id": "2c4b39c6",
   "metadata": {},
   "outputs": [
    {
     "data": {
      "text/plain": [
       "'banana'"
      ]
     },
     "execution_count": 30,
     "metadata": {},
     "output_type": "execute_result"
    }
   ],
   "source": [
    "fruit[1]"
   ]
  },
  {
   "cell_type": "code",
   "execution_count": 32,
   "id": "49c0060c",
   "metadata": {},
   "outputs": [],
   "source": [
    "colors = [\"green\", \"blue\", \"black\"]"
   ]
  },
  {
   "cell_type": "code",
   "execution_count": 33,
   "id": "ea84510b",
   "metadata": {},
   "outputs": [
    {
     "data": {
      "text/plain": [
       "list"
      ]
     },
     "execution_count": 33,
     "metadata": {},
     "output_type": "execute_result"
    }
   ],
   "source": [
    "type(colors)"
   ]
  },
  {
   "cell_type": "code",
   "execution_count": 34,
   "id": "2725cf02",
   "metadata": {},
   "outputs": [
    {
     "data": {
      "text/plain": [
       "'green'"
      ]
     },
     "execution_count": 34,
     "metadata": {},
     "output_type": "execute_result"
    }
   ],
   "source": [
    "colors[0]"
   ]
  },
  {
   "cell_type": "markdown",
   "id": "00a12903",
   "metadata": {},
   "source": [
    "### If Statements"
   ]
  },
  {
   "cell_type": "code",
   "execution_count": 43,
   "id": "149db315",
   "metadata": {},
   "outputs": [],
   "source": [
    "Name= \"Long\""
   ]
  },
  {
   "cell_type": "code",
   "execution_count": 48,
   "id": "3cfec3ac",
   "metadata": {},
   "outputs": [
    {
     "name": "stdout",
     "output_type": "stream",
     "text": [
      "True!\n"
     ]
    }
   ],
   "source": [
    "if Name == \"Long\":\n",
    "    print(\"True!\")\n",
    "else:\n",
    "    print(\"Fasle\", name)"
   ]
  },
  {
   "cell_type": "markdown",
   "id": "b13c097b",
   "metadata": {},
   "source": [
    "#### Vòng lặp (Loops)\n",
    "*Counting loops: tập đếm\n",
    "*Conditional loops: tập điều kiện"
   ]
  },
  {
   "cell_type": "code",
   "execution_count": 50,
   "id": "4c657e8d",
   "metadata": {},
   "outputs": [
    {
     "name": "stdout",
     "output_type": "stream",
     "text": [
      "Hello 1\n",
      "Hello 2\n",
      "Hello 3\n",
      "Hello 4\n",
      "Hello 5\n"
     ]
    }
   ],
   "source": [
    "for mynum in [1, 2, 3, 4, 5]:\n",
    " print(\"Hello\", mynum)"
   ]
  },
  {
   "cell_type": "code",
   "execution_count": 53,
   "id": "1334f524",
   "metadata": {},
   "outputs": [
    {
     "name": "stdout",
     "output_type": "stream",
     "text": [
      "The count is: 0\n",
      "The count is: 1\n",
      "The count is: 2\n",
      "The count is: 3\n"
     ]
    }
   ],
   "source": [
    "count = 0\n",
    ">>> while (count < 4):\n",
    " print(\"The count is:\", count)\n",
    " count = count + 1"
   ]
  },
  {
   "cell_type": "code",
   "execution_count": 55,
   "id": "f0e896c9",
   "metadata": {},
   "outputs": [
    {
     "ename": "IndentationError",
     "evalue": "unindent does not match any outer indentation level (<tokenize>, line 4)",
     "output_type": "error",
     "traceback": [
      "\u001b[0;36m  File \u001b[0;32m<tokenize>:4\u001b[0;36m\u001b[0m\n\u001b[0;31m    print(\"The count is:\", count)\u001b[0m\n\u001b[0m    ^\u001b[0m\n\u001b[0;31mIndentationError\u001b[0m\u001b[0;31m:\u001b[0m unindent does not match any outer indentation level\n"
     ]
    }
   ],
   "source": [
    "count = 0\n",
    ">>> while (count < 10):\n",
    "    if count ==5\n",
    " print(\"The count is:\", count)\n",
    " count = count + 1"
   ]
  },
  {
   "cell_type": "code",
   "execution_count": 69,
   "id": "09ae0ec0",
   "metadata": {
    "scrolled": true
   },
   "outputs": [
    {
     "name": "stdout",
     "output_type": "stream",
     "text": [
      "So dem la: 0\n",
      "So dem la: 1\n",
      "So dem la: 2\n",
      "So dem la: 3\n",
      "So dem la: 4\n"
     ]
    },
    {
     "ename": "NameError",
     "evalue": "name 'coutinue' is not defined",
     "output_type": "error",
     "traceback": [
      "\u001b[0;31m---------------------------------------------------------------------------\u001b[0m",
      "\u001b[0;31mNameError\u001b[0m                                 Traceback (most recent call last)",
      "Cell \u001b[0;32mIn [69], line 5\u001b[0m\n\u001b[1;32m      2\u001b[0m \u001b[38;5;28;01mwhile\u001b[39;00m (count \u001b[38;5;241m<\u001b[39m \u001b[38;5;241m10\u001b[39m):\n\u001b[1;32m      4\u001b[0m     \u001b[38;5;28;01mif\u001b[39;00m count \u001b[38;5;241m==\u001b[39m\u001b[38;5;241m5\u001b[39m:\n\u001b[0;32m----> 5\u001b[0m             \u001b[43mcoutinue\u001b[49m\n\u001b[1;32m      6\u001b[0m     \u001b[38;5;28mprint\u001b[39m(\u001b[38;5;124m\"\u001b[39m\u001b[38;5;124mSo dem la:\u001b[39m\u001b[38;5;124m\"\u001b[39m, count)\n\u001b[1;32m      7\u001b[0m     count \u001b[38;5;241m=\u001b[39m count \u001b[38;5;241m+\u001b[39m\u001b[38;5;241m1\u001b[39m\n",
      "\u001b[0;31mNameError\u001b[0m: name 'coutinue' is not defined"
     ]
    }
   ],
   "source": [
    "count = 0\n",
    "while (count < 10):\n",
    "   \n",
    "    if count ==5:\n",
    "            coutinue\n",
    "    print(\"So dem la:\", count)\n",
    "    count = count +1\n",
    " "
   ]
  },
  {
   "cell_type": "markdown",
   "id": "4263880d",
   "metadata": {},
   "source": [
    "## Functions"
   ]
  },
  {
   "cell_type": "code",
   "execution_count": 70,
   "id": "64347552",
   "metadata": {},
   "outputs": [],
   "source": [
    "def say_hello():\n",
    " print(\"Hello\")"
   ]
  },
  {
   "cell_type": "code",
   "execution_count": 71,
   "id": "6f156540",
   "metadata": {},
   "outputs": [
    {
     "name": "stdout",
     "output_type": "stream",
     "text": [
      "Hello\n"
     ]
    }
   ],
   "source": [
    "say_hello()"
   ]
  },
  {
   "cell_type": "code",
   "execution_count": 74,
   "id": "0a4ae3e7",
   "metadata": {},
   "outputs": [],
   "source": [
    "def say_hello(myname):\n",
    " print(\"Hello\", myname)"
   ]
  },
  {
   "cell_type": "code",
   "execution_count": 76,
   "id": "cee1991c",
   "metadata": {},
   "outputs": [
    {
     "name": "stdout",
     "output_type": "stream",
     "text": [
      "Hello Meg\n"
     ]
    }
   ],
   "source": [
    "say_hello(\"Meg\")"
   ]
  },
  {
   "cell_type": "code",
   "execution_count": 78,
   "id": "bb308f52",
   "metadata": {},
   "outputs": [
    {
     "name": "stdout",
     "output_type": "stream",
     "text": [
      "Hello Barbara\n"
     ]
    }
   ],
   "source": [
    "say_hello(\"Barbara\")"
   ]
  },
  {
   "cell_type": "code",
   "execution_count": 79,
   "id": "1841ef1d",
   "metadata": {},
   "outputs": [
    {
     "name": "stdout",
     "output_type": "stream",
     "text": [
      "Input your birth year: 2005\n",
      "Your Zodiac sign : Rooster\n"
     ]
    }
   ],
   "source": [
    "year = int(input(\"Input your birth year: \"))\n",
    "if (year - 2000) % 12 == 0:\n",
    "    sign = 'Dragon'\n",
    "elif (year - 2000) % 12 == 1:\n",
    "    sign = 'Snake'\n",
    "elif (year - 2000) % 12 == 2:\n",
    "    sign = 'Horse'\n",
    "elif (year - 2000) % 12 == 3:\n",
    "    sign = 'sheep'\n",
    "elif (year - 2000) % 12 == 4:\n",
    "    sign = 'Monkey'\n",
    "elif (year - 2000) % 12 == 5:\n",
    "    sign = 'Rooster'\n",
    "elif (year - 2000) % 12 == 6:\n",
    "    sign = 'Dog'\n",
    "elif (year - 2000) % 12 == 7:\n",
    "    sign = 'Pig'\n",
    "elif (year - 2000) % 12 == 8:\n",
    "    sign = 'Rat'\n",
    "elif (year - 2000) % 12 == 9:\n",
    "    sign = 'Ox'\n",
    "elif (year - 2000) % 12 == 10:\n",
    "    sign = 'Tiger'\n",
    "else:\n",
    "    sign = 'Hare'\n",
    "\n",
    "print(\"Your Zodiac sign :\",sign)"
   ]
  },
  {
   "cell_type": "markdown",
   "id": "ac2d8a30",
   "metadata": {},
   "source": [
    "## Functions: def(Hàm)"
   ]
  },
  {
   "cell_type": "code",
   "execution_count": 1,
   "id": "e7777d8d",
   "metadata": {},
   "outputs": [],
   "source": [
    "def say_hello():\n",
    "    print(\"Hello myfr\")"
   ]
  },
  {
   "cell_type": "code",
   "execution_count": 2,
   "id": "7c86feb7",
   "metadata": {},
   "outputs": [
    {
     "name": "stdout",
     "output_type": "stream",
     "text": [
      "Hello myfr\n"
     ]
    }
   ],
   "source": [
    "say_hello()"
   ]
  },
  {
   "cell_type": "code",
   "execution_count": 3,
   "id": "2d766806",
   "metadata": {},
   "outputs": [],
   "source": [
    "# có tham số\n",
    "def say_hello(myname):\n",
    "    print(\"Hello\" , myname)"
   ]
  },
  {
   "cell_type": "code",
   "execution_count": 6,
   "id": "3731498b",
   "metadata": {},
   "outputs": [
    {
     "name": "stdout",
     "output_type": "stream",
     "text": [
      "Hello Long\n"
     ]
    }
   ],
   "source": [
    "say_hello(\"Long\")"
   ]
  },
  {
   "cell_type": "code",
   "execution_count": 7,
   "id": "15c28cdc",
   "metadata": {},
   "outputs": [
    {
     "name": "stdout",
     "output_type": "stream",
     "text": [
      "Hello Ha Anh\n"
     ]
    }
   ],
   "source": [
    "say_hello(\"Ha Anh\")"
   ]
  },
  {
   "cell_type": "markdown",
   "id": "dd69abc8",
   "metadata": {},
   "source": [
    "#### Bài tập\n",
    "Viết một hàm: Ktra một số, in ra màn hình \"là số lẻ\" nếu là số lẻ, \"là số chẵn\" nếu là số chẵn"
   ]
  },
  {
   "cell_type": "code",
   "execution_count": 10,
   "id": "8bc69cf9",
   "metadata": {},
   "outputs": [],
   "source": [
    "def kiemtra_so(n):\n",
    "    if n % 2 ==0:\n",
    "        print(n,\"là số chẵn\")\n",
    "    else:\n",
    "        print(n,\"là số lẻ\")\n",
    "    "
   ]
  },
  {
   "cell_type": "code",
   "execution_count": 11,
   "id": "e6c4e0ef",
   "metadata": {},
   "outputs": [
    {
     "name": "stdout",
     "output_type": "stream",
     "text": [
      "5 là số lẻ\n"
     ]
    }
   ],
   "source": [
    "kiemtra_so(5)"
   ]
  },
  {
   "cell_type": "code",
   "execution_count": 12,
   "id": "c23aa747",
   "metadata": {},
   "outputs": [
    {
     "name": "stdout",
     "output_type": "stream",
     "text": [
      "10 là số chẵn\n"
     ]
    }
   ],
   "source": [
    "kiemtra_so(10)"
   ]
  },
  {
   "cell_type": "markdown",
   "id": "a257b92e",
   "metadata": {},
   "source": [
    "2, Viết một hàm có tham số là 2 số, in ra kết quả là tích hai số đó"
   ]
  },
  {
   "cell_type": "code",
   "execution_count": 18,
   "id": "c6e4e49d",
   "metadata": {},
   "outputs": [],
   "source": [
    "def tich_hai_so(a, b):\n",
    "    tich = a * b\n",
    "    print(\"Kết quả tích hai số\", tich)"
   ]
  },
  {
   "cell_type": "code",
   "execution_count": 19,
   "id": "2b61c372",
   "metadata": {},
   "outputs": [
    {
     "name": "stdout",
     "output_type": "stream",
     "text": [
      "Kết quả tích hai số 12\n"
     ]
    }
   ],
   "source": [
    "tich_hai_so(3, 4)"
   ]
  },
  {
   "cell_type": "code",
   "execution_count": 20,
   "id": "270ea7ce",
   "metadata": {},
   "outputs": [
    {
     "name": "stdout",
     "output_type": "stream",
     "text": [
      "Kết quả tích hai số 5\n"
     ]
    }
   ],
   "source": [
    "tich_hai_so(1,5)"
   ]
  },
  {
   "cell_type": "markdown",
   "id": "de346605",
   "metadata": {},
   "source": [
    "# Functions: Output(Giá trị trả về của hàm)"
   ]
  },
  {
   "cell_type": "code",
   "execution_count": 21,
   "id": "87d8514a",
   "metadata": {},
   "outputs": [
    {
     "name": "stdout",
     "output_type": "stream",
     "text": [
      "Kết quả tích hai số 30\n"
     ]
    }
   ],
   "source": [
    "tich_hai_so(5,6)"
   ]
  },
  {
   "cell_type": "code",
   "execution_count": 22,
   "id": "51e55a8f",
   "metadata": {},
   "outputs": [
    {
     "name": "stdout",
     "output_type": "stream",
     "text": [
      "Kết quả tích hai số 4\n"
     ]
    }
   ],
   "source": [
    "kq = tich_hai_so(1,4)"
   ]
  },
  {
   "cell_type": "code",
   "execution_count": 23,
   "id": "01d6617a",
   "metadata": {},
   "outputs": [],
   "source": [
    "kq"
   ]
  },
  {
   "cell_type": "code",
   "execution_count": 25,
   "id": "be45dd50",
   "metadata": {},
   "outputs": [],
   "source": [
    "def tich_hai_so(a,b):\n",
    "    return a * b"
   ]
  },
  {
   "cell_type": "code",
   "execution_count": 26,
   "id": "0e2908e8",
   "metadata": {},
   "outputs": [
    {
     "data": {
      "text/plain": [
       "8"
      ]
     },
     "execution_count": 26,
     "metadata": {},
     "output_type": "execute_result"
    }
   ],
   "source": [
    "tich_hai_so(2,4)"
   ]
  },
  {
   "cell_type": "code",
   "execution_count": 27,
   "id": "2ad01194",
   "metadata": {},
   "outputs": [],
   "source": [
    "kq = tich_hai_so(2,4)"
   ]
  },
  {
   "cell_type": "code",
   "execution_count": 28,
   "id": "ec706032",
   "metadata": {},
   "outputs": [
    {
     "data": {
      "text/plain": [
       "8"
      ]
     },
     "execution_count": 28,
     "metadata": {},
     "output_type": "execute_result"
    }
   ],
   "source": [
    "kq"
   ]
  },
  {
   "cell_type": "code",
   "execution_count": 41,
   "id": "351560d2",
   "metadata": {},
   "outputs": [],
   "source": [
    "def hello_there():\n",
    " name = input()\n",
    " print(\"Hi\", name, \"how are you?\")"
   ]
  },
  {
   "cell_type": "code",
   "execution_count": 37,
   "id": "a30dc1b2",
   "metadata": {},
   "outputs": [
    {
     "name": "stdout",
     "output_type": "stream",
     "text": [
      "Long\n",
      "Hi Long how are you?\n"
     ]
    }
   ],
   "source": [
    "hello_there()"
   ]
  },
  {
   "cell_type": "code",
   "execution_count": 39,
   "id": "3226e412",
   "metadata": {},
   "outputs": [
    {
     "name": "stdout",
     "output_type": "stream",
     "text": [
      "Huy\n",
      "Hi Huy how are you?\n"
     ]
    }
   ],
   "source": [
    "hello_there()"
   ]
  },
  {
   "cell_type": "markdown",
   "id": "ee540675",
   "metadata": {},
   "source": [
    "# Modules"
   ]
  },
  {
   "cell_type": "code",
   "execution_count": 43,
   "id": "60bcdadd",
   "metadata": {},
   "outputs": [
    {
     "data": {
      "text/plain": [
       "377"
      ]
     },
     "execution_count": 43,
     "metadata": {},
     "output_type": "execute_result"
    }
   ],
   "source": [
    "import random\n",
    "random.randint(1,1000)"
   ]
  },
  {
   "cell_type": "code",
   "execution_count": 44,
   "id": "e5410e06",
   "metadata": {},
   "outputs": [
    {
     "ename": "SyntaxError",
     "evalue": "invalid syntax (530962298.py, line 2)",
     "output_type": "error",
     "traceback": [
      "\u001b[0;36m  Cell \u001b[0;32mIn [44], line 2\u001b[0;36m\u001b[0m\n\u001b[0;31m    mytext tich_hai_so(5,6)\u001b[0m\n\u001b[0m           ^\u001b[0m\n\u001b[0;31mSyntaxError\u001b[0m\u001b[0;31m:\u001b[0m invalid syntax\n"
     ]
    }
   ],
   "source": [
    "import random\n",
    "mytext tich_hai_so(5,6)"
   ]
  },
  {
   "cell_type": "markdown",
   "id": "79f3a87b",
   "metadata": {},
   "source": [
    "### Game"
   ]
  },
  {
   "cell_type": "markdown",
   "id": "1630dcdd",
   "metadata": {},
   "source": [
    "1,Viết hàm guess1 chứa code trong slide 78"
   ]
  },
  {
   "cell_type": "markdown",
   "id": "b19918b8",
   "metadata": {},
   "source": [
    "2,Viết hàm guess2 chứa code trong slide 79"
   ]
  },
  {
   "cell_type": "markdown",
   "id": "63152829",
   "metadata": {},
   "source": [
    "3,Viết hàm guess3 chứa code trong slide 80"
   ]
  },
  {
   "cell_type": "code",
   "execution_count": 51,
   "id": "4f94150d",
   "metadata": {},
   "outputs": [
    {
     "name": "stdout",
     "output_type": "stream",
     "text": [
      "What number am I thinking of? 10\n",
      "No, that's not it.\n"
     ]
    }
   ],
   "source": [
    "secret_number = 7\n",
    "guess = input(\"What number am I thinking of? \")\n",
    "if secret_number == guess:\n",
    " print(\"Yay! You got it.\")\n",
    "else:\n",
    " print(\"No, that's not it.\")"
   ]
  },
  {
   "cell_type": "code",
   "execution_count": null,
   "id": "af0105b7",
   "metadata": {},
   "outputs": [
    {
     "name": "stdout",
     "output_type": "stream",
     "text": [
      "What number am I thinking of? 9\n",
      "No, that's not it.\n",
      "What number am I thinking of? 2\n",
      "No, that's not it.\n",
      "What number am I thinking of? 1\n",
      "No, that's not it.\n",
      "What number am I thinking of? 3\n",
      "No, that's not it.\n",
      "What number am I thinking of? 4\n",
      "No, that's not it.\n",
      "What number am I thinking of? \n",
      "No, that's not it.\n",
      "What number am I thinking of? 31\n",
      "No, that's not it.\n"
     ]
    }
   ],
   "source": [
    "from random import randint\n",
    "secret_number = randint(1, 10)\n",
    "while True:\n",
    "    guess = input(\"What number am I thinking of? \")\n",
    "    if secret_number == guess:         \n",
    "        print(\"Yay! You got it.\")\n",
    "        break\n",
    "    else:\n",
    "        print(\"No, that's not it.\")"
   ]
  },
  {
   "cell_type": "code",
   "execution_count": null,
   "id": "b89dbc96",
   "metadata": {},
   "outputs": [],
   "source": [
    "from random import randint\n",
    "secret_number = randint(1, 10)\n",
    "while True:\n",
    "    guess = input(\"What number am I thinking of? \")\n",
    "    if secret_number == guess:\n",
    "        print(\"Yay! You got it.\")\n",
    "        break\n",
    "    elif secret_number > guess:\n",
    "        print(\"No, that's too low.\")\n",
    "    else:\n",
    "        print(\"No, that's too high.\")"
   ]
  },
  {
   "cell_type": "code",
   "execution_count": null,
   "id": "3dd52dd6",
   "metadata": {},
   "outputs": [],
   "source": [
    "secret_number = randint(3)"
   ]
  },
  {
   "cell_type": "code",
   "execution_count": null,
   "id": "b4815925",
   "metadata": {},
   "outputs": [],
   "source": [
    "random.randint()"
   ]
  },
  {
   "cell_type": "code",
   "execution_count": null,
   "id": "b9587500",
   "metadata": {},
   "outputs": [],
   "source": [
    "games.guess1()"
   ]
  },
  {
   "cell_type": "code",
   "execution_count": null,
   "id": "d54f041c",
   "metadata": {},
   "outputs": [],
   "source": []
  }
 ],
 "metadata": {
  "kernelspec": {
   "display_name": "Python 3 (ipykernel)",
   "language": "python",
   "name": "python3"
  },
  "language_info": {
   "codemirror_mode": {
    "name": "ipython",
    "version": 3
   },
   "file_extension": ".py",
   "mimetype": "text/x-python",
   "name": "python",
   "nbconvert_exporter": "python",
   "pygments_lexer": "ipython3",
   "version": "3.9.7"
  }
 },
 "nbformat": 4,
 "nbformat_minor": 5
}
